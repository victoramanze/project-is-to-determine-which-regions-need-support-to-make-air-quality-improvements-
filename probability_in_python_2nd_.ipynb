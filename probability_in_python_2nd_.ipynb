{
  "nbformat": 4,
  "nbformat_minor": 0,
  "metadata": {
    "colab": {
      "provenance": []
    },
    "kernelspec": {
      "name": "python3",
      "display_name": "Python 3"
    },
    "language_info": {
      "name": "python"
    }
  },
  "cells": [
    {
      "cell_type": "markdown",
      "source": [
        "Our aim in this project  is to determine which regions need support to make air quality improvements. Given that carbon monoxide is a major air pollutant, you will investigate data from the Air Quality Index (AQI) with respect to carbon monoxide."
      ],
      "metadata": {
        "id": "7tJfiY_LhnYz"
      }
    },
    {
      "cell_type": "markdown",
      "source": [
        "first we import the relevant libraries."
      ],
      "metadata": {
        "id": "rOSg_Y6ZCnSL"
      }
    },
    {
      "cell_type": "code",
      "execution_count": null,
      "metadata": {
        "id": "-RZI64CQBAN9"
      },
      "outputs": [],
      "source": [
        "import numpy as np\n",
        "import pandas as pd\n",
        "import matplotlib.pyplot as plt\n",
        "import statsmodels.api as sm\n",
        "from scipy import stats"
      ]
    },
    {
      "cell_type": "code",
      "source": [
        " pd.read_csv(\"c4 epa air dataset.csv\")"
      ],
      "metadata": {
        "colab": {
          "base_uri": "https://localhost:8080/",
          "height": 609
        },
        "id": "UP-DMQWEBNBG",
        "outputId": "fccbb0cb-77fa-4c45-928e-1927dab4f595"
      },
      "execution_count": null,
      "outputs": [
        {
          "output_type": "execute_result",
          "data": {
            "text/plain": [
              "     Unnamed: 0  date_local            state_name           county_name  \\\n",
              "0             0  2018-01-01               Arizona              Maricopa   \n",
              "1             1  2018-01-01                  Ohio               Belmont   \n",
              "2             2  2018-01-01               Wyoming                 Teton   \n",
              "3             3  2018-01-01          Pennsylvania          Philadelphia   \n",
              "4             4  2018-01-01                  Iowa                  Polk   \n",
              "..          ...         ...                   ...                   ...   \n",
              "255         255  2018-01-01  District Of Columbia  District of Columbia   \n",
              "256         256  2018-01-01             Wisconsin                 Dodge   \n",
              "257         257  2018-01-01              Kentucky             Jefferson   \n",
              "258         258  2018-01-01              Nebraska               Douglas   \n",
              "259         259  2018-01-01        North Carolina                  Wake   \n",
              "\n",
              "         city_name                                    local_site_name  \\\n",
              "0          Buckeye                                            BUCKEYE   \n",
              "1        Shadyside                                          Shadyside   \n",
              "2    Not in a city  Yellowstone National Park - Old Faithful Snow ...   \n",
              "3     Philadelphia                             North East Waste (NEW)   \n",
              "4       Des Moines                                          CARPENTER   \n",
              "..             ...                                                ...   \n",
              "255     Washington                                          Near Road   \n",
              "256       Kekoskee                              HORICON WILDLIFE AREA   \n",
              "257     Louisville                                       CANNONS LANE   \n",
              "258          Omaha                                                NaN   \n",
              "259  Not in a city                                         Triple Oak   \n",
              "\n",
              "      parameter_name   units_of_measure  arithmetic_mean  aqi  \n",
              "0    Carbon monoxide  Parts per million         0.473684    7  \n",
              "1    Carbon monoxide  Parts per million         0.263158    5  \n",
              "2    Carbon monoxide  Parts per million         0.111111    2  \n",
              "3    Carbon monoxide  Parts per million         0.300000    3  \n",
              "4    Carbon monoxide  Parts per million         0.215789    3  \n",
              "..               ...                ...              ...  ...  \n",
              "255  Carbon monoxide  Parts per million         0.244444    3  \n",
              "256  Carbon monoxide  Parts per million         0.200000    2  \n",
              "257  Carbon monoxide  Parts per million         0.163158    2  \n",
              "258  Carbon monoxide  Parts per million         0.421053    9  \n",
              "259  Carbon monoxide  Parts per million         0.188889    2  \n",
              "\n",
              "[260 rows x 10 columns]"
            ],
            "text/html": [
              "\n",
              "  <div id=\"df-1a374274-47fd-447a-ad2a-1d7101f6f4c6\">\n",
              "    <div class=\"colab-df-container\">\n",
              "      <div>\n",
              "<style scoped>\n",
              "    .dataframe tbody tr th:only-of-type {\n",
              "        vertical-align: middle;\n",
              "    }\n",
              "\n",
              "    .dataframe tbody tr th {\n",
              "        vertical-align: top;\n",
              "    }\n",
              "\n",
              "    .dataframe thead th {\n",
              "        text-align: right;\n",
              "    }\n",
              "</style>\n",
              "<table border=\"1\" class=\"dataframe\">\n",
              "  <thead>\n",
              "    <tr style=\"text-align: right;\">\n",
              "      <th></th>\n",
              "      <th>Unnamed: 0</th>\n",
              "      <th>date_local</th>\n",
              "      <th>state_name</th>\n",
              "      <th>county_name</th>\n",
              "      <th>city_name</th>\n",
              "      <th>local_site_name</th>\n",
              "      <th>parameter_name</th>\n",
              "      <th>units_of_measure</th>\n",
              "      <th>arithmetic_mean</th>\n",
              "      <th>aqi</th>\n",
              "    </tr>\n",
              "  </thead>\n",
              "  <tbody>\n",
              "    <tr>\n",
              "      <th>0</th>\n",
              "      <td>0</td>\n",
              "      <td>2018-01-01</td>\n",
              "      <td>Arizona</td>\n",
              "      <td>Maricopa</td>\n",
              "      <td>Buckeye</td>\n",
              "      <td>BUCKEYE</td>\n",
              "      <td>Carbon monoxide</td>\n",
              "      <td>Parts per million</td>\n",
              "      <td>0.473684</td>\n",
              "      <td>7</td>\n",
              "    </tr>\n",
              "    <tr>\n",
              "      <th>1</th>\n",
              "      <td>1</td>\n",
              "      <td>2018-01-01</td>\n",
              "      <td>Ohio</td>\n",
              "      <td>Belmont</td>\n",
              "      <td>Shadyside</td>\n",
              "      <td>Shadyside</td>\n",
              "      <td>Carbon monoxide</td>\n",
              "      <td>Parts per million</td>\n",
              "      <td>0.263158</td>\n",
              "      <td>5</td>\n",
              "    </tr>\n",
              "    <tr>\n",
              "      <th>2</th>\n",
              "      <td>2</td>\n",
              "      <td>2018-01-01</td>\n",
              "      <td>Wyoming</td>\n",
              "      <td>Teton</td>\n",
              "      <td>Not in a city</td>\n",
              "      <td>Yellowstone National Park - Old Faithful Snow ...</td>\n",
              "      <td>Carbon monoxide</td>\n",
              "      <td>Parts per million</td>\n",
              "      <td>0.111111</td>\n",
              "      <td>2</td>\n",
              "    </tr>\n",
              "    <tr>\n",
              "      <th>3</th>\n",
              "      <td>3</td>\n",
              "      <td>2018-01-01</td>\n",
              "      <td>Pennsylvania</td>\n",
              "      <td>Philadelphia</td>\n",
              "      <td>Philadelphia</td>\n",
              "      <td>North East Waste (NEW)</td>\n",
              "      <td>Carbon monoxide</td>\n",
              "      <td>Parts per million</td>\n",
              "      <td>0.300000</td>\n",
              "      <td>3</td>\n",
              "    </tr>\n",
              "    <tr>\n",
              "      <th>4</th>\n",
              "      <td>4</td>\n",
              "      <td>2018-01-01</td>\n",
              "      <td>Iowa</td>\n",
              "      <td>Polk</td>\n",
              "      <td>Des Moines</td>\n",
              "      <td>CARPENTER</td>\n",
              "      <td>Carbon monoxide</td>\n",
              "      <td>Parts per million</td>\n",
              "      <td>0.215789</td>\n",
              "      <td>3</td>\n",
              "    </tr>\n",
              "    <tr>\n",
              "      <th>...</th>\n",
              "      <td>...</td>\n",
              "      <td>...</td>\n",
              "      <td>...</td>\n",
              "      <td>...</td>\n",
              "      <td>...</td>\n",
              "      <td>...</td>\n",
              "      <td>...</td>\n",
              "      <td>...</td>\n",
              "      <td>...</td>\n",
              "      <td>...</td>\n",
              "    </tr>\n",
              "    <tr>\n",
              "      <th>255</th>\n",
              "      <td>255</td>\n",
              "      <td>2018-01-01</td>\n",
              "      <td>District Of Columbia</td>\n",
              "      <td>District of Columbia</td>\n",
              "      <td>Washington</td>\n",
              "      <td>Near Road</td>\n",
              "      <td>Carbon monoxide</td>\n",
              "      <td>Parts per million</td>\n",
              "      <td>0.244444</td>\n",
              "      <td>3</td>\n",
              "    </tr>\n",
              "    <tr>\n",
              "      <th>256</th>\n",
              "      <td>256</td>\n",
              "      <td>2018-01-01</td>\n",
              "      <td>Wisconsin</td>\n",
              "      <td>Dodge</td>\n",
              "      <td>Kekoskee</td>\n",
              "      <td>HORICON WILDLIFE AREA</td>\n",
              "      <td>Carbon monoxide</td>\n",
              "      <td>Parts per million</td>\n",
              "      <td>0.200000</td>\n",
              "      <td>2</td>\n",
              "    </tr>\n",
              "    <tr>\n",
              "      <th>257</th>\n",
              "      <td>257</td>\n",
              "      <td>2018-01-01</td>\n",
              "      <td>Kentucky</td>\n",
              "      <td>Jefferson</td>\n",
              "      <td>Louisville</td>\n",
              "      <td>CANNONS LANE</td>\n",
              "      <td>Carbon monoxide</td>\n",
              "      <td>Parts per million</td>\n",
              "      <td>0.163158</td>\n",
              "      <td>2</td>\n",
              "    </tr>\n",
              "    <tr>\n",
              "      <th>258</th>\n",
              "      <td>258</td>\n",
              "      <td>2018-01-01</td>\n",
              "      <td>Nebraska</td>\n",
              "      <td>Douglas</td>\n",
              "      <td>Omaha</td>\n",
              "      <td>NaN</td>\n",
              "      <td>Carbon monoxide</td>\n",
              "      <td>Parts per million</td>\n",
              "      <td>0.421053</td>\n",
              "      <td>9</td>\n",
              "    </tr>\n",
              "    <tr>\n",
              "      <th>259</th>\n",
              "      <td>259</td>\n",
              "      <td>2018-01-01</td>\n",
              "      <td>North Carolina</td>\n",
              "      <td>Wake</td>\n",
              "      <td>Not in a city</td>\n",
              "      <td>Triple Oak</td>\n",
              "      <td>Carbon monoxide</td>\n",
              "      <td>Parts per million</td>\n",
              "      <td>0.188889</td>\n",
              "      <td>2</td>\n",
              "    </tr>\n",
              "  </tbody>\n",
              "</table>\n",
              "<p>260 rows × 10 columns</p>\n",
              "</div>\n",
              "      <button class=\"colab-df-convert\" onclick=\"convertToInteractive('df-1a374274-47fd-447a-ad2a-1d7101f6f4c6')\"\n",
              "              title=\"Convert this dataframe to an interactive table.\"\n",
              "              style=\"display:none;\">\n",
              "        \n",
              "  <svg xmlns=\"http://www.w3.org/2000/svg\" height=\"24px\"viewBox=\"0 0 24 24\"\n",
              "       width=\"24px\">\n",
              "    <path d=\"M0 0h24v24H0V0z\" fill=\"none\"/>\n",
              "    <path d=\"M18.56 5.44l.94 2.06.94-2.06 2.06-.94-2.06-.94-.94-2.06-.94 2.06-2.06.94zm-11 1L8.5 8.5l.94-2.06 2.06-.94-2.06-.94L8.5 2.5l-.94 2.06-2.06.94zm10 10l.94 2.06.94-2.06 2.06-.94-2.06-.94-.94-2.06-.94 2.06-2.06.94z\"/><path d=\"M17.41 7.96l-1.37-1.37c-.4-.4-.92-.59-1.43-.59-.52 0-1.04.2-1.43.59L10.3 9.45l-7.72 7.72c-.78.78-.78 2.05 0 2.83L4 21.41c.39.39.9.59 1.41.59.51 0 1.02-.2 1.41-.59l7.78-7.78 2.81-2.81c.8-.78.8-2.07 0-2.86zM5.41 20L4 18.59l7.72-7.72 1.47 1.35L5.41 20z\"/>\n",
              "  </svg>\n",
              "      </button>\n",
              "      \n",
              "  <style>\n",
              "    .colab-df-container {\n",
              "      display:flex;\n",
              "      flex-wrap:wrap;\n",
              "      gap: 12px;\n",
              "    }\n",
              "\n",
              "    .colab-df-convert {\n",
              "      background-color: #E8F0FE;\n",
              "      border: none;\n",
              "      border-radius: 50%;\n",
              "      cursor: pointer;\n",
              "      display: none;\n",
              "      fill: #1967D2;\n",
              "      height: 32px;\n",
              "      padding: 0 0 0 0;\n",
              "      width: 32px;\n",
              "    }\n",
              "\n",
              "    .colab-df-convert:hover {\n",
              "      background-color: #E2EBFA;\n",
              "      box-shadow: 0px 1px 2px rgba(60, 64, 67, 0.3), 0px 1px 3px 1px rgba(60, 64, 67, 0.15);\n",
              "      fill: #174EA6;\n",
              "    }\n",
              "\n",
              "    [theme=dark] .colab-df-convert {\n",
              "      background-color: #3B4455;\n",
              "      fill: #D2E3FC;\n",
              "    }\n",
              "\n",
              "    [theme=dark] .colab-df-convert:hover {\n",
              "      background-color: #434B5C;\n",
              "      box-shadow: 0px 1px 3px 1px rgba(0, 0, 0, 0.15);\n",
              "      filter: drop-shadow(0px 1px 2px rgba(0, 0, 0, 0.3));\n",
              "      fill: #FFFFFF;\n",
              "    }\n",
              "  </style>\n",
              "\n",
              "      <script>\n",
              "        const buttonEl =\n",
              "          document.querySelector('#df-1a374274-47fd-447a-ad2a-1d7101f6f4c6 button.colab-df-convert');\n",
              "        buttonEl.style.display =\n",
              "          google.colab.kernel.accessAllowed ? 'block' : 'none';\n",
              "\n",
              "        async function convertToInteractive(key) {\n",
              "          const element = document.querySelector('#df-1a374274-47fd-447a-ad2a-1d7101f6f4c6');\n",
              "          const dataTable =\n",
              "            await google.colab.kernel.invokeFunction('convertToInteractive',\n",
              "                                                     [key], {});\n",
              "          if (!dataTable) return;\n",
              "\n",
              "          const docLinkHtml = 'Like what you see? Visit the ' +\n",
              "            '<a target=\"_blank\" href=https://colab.research.google.com/notebooks/data_table.ipynb>data table notebook</a>'\n",
              "            + ' to learn more about interactive tables.';\n",
              "          element.innerHTML = '';\n",
              "          dataTable['output_type'] = 'display_data';\n",
              "          await google.colab.output.renderOutput(dataTable, element);\n",
              "          const docLink = document.createElement('div');\n",
              "          docLink.innerHTML = docLinkHtml;\n",
              "          element.appendChild(docLink);\n",
              "        }\n",
              "      </script>\n",
              "    </div>\n",
              "  </div>\n",
              "  "
            ]
          },
          "metadata": {},
          "execution_count": 2
        }
      ]
    },
    {
      "cell_type": "code",
      "source": [
        "ads = pd.read_csv(\"c4 epa air dataset.csv\")"
      ],
      "metadata": {
        "id": "FA4LBUjYBdwh"
      },
      "execution_count": null,
      "outputs": []
    },
    {
      "cell_type": "code",
      "source": [
        "ads.head(10)"
      ],
      "metadata": {
        "colab": {
          "base_uri": "https://localhost:8080/",
          "height": 476
        },
        "id": "2zNDam0fBybp",
        "outputId": "2d2b89d7-f680-45b0-e703-c5225992d887"
      },
      "execution_count": null,
      "outputs": [
        {
          "output_type": "execute_result",
          "data": {
            "text/plain": [
              "   date_local    state_name   county_name      city_name  \\\n",
              "0  2018-01-01       Arizona      Maricopa        Buckeye   \n",
              "1  2018-01-01          Ohio       Belmont      Shadyside   \n",
              "2  2018-01-01       Wyoming         Teton  Not in a city   \n",
              "3  2018-01-01  Pennsylvania  Philadelphia   Philadelphia   \n",
              "4  2018-01-01          Iowa          Polk     Des Moines   \n",
              "5  2018-01-01        Hawaii      Honolulu  Not in a city   \n",
              "6  2018-01-01        Hawaii      Honolulu  Not in a city   \n",
              "7  2018-01-01  Pennsylvania          Erie           Erie   \n",
              "8  2018-01-01        Hawaii      Honolulu       Honolulu   \n",
              "9  2018-01-01      Colorado       Larimer   Fort Collins   \n",
              "\n",
              "                                     local_site_name   parameter_name  \\\n",
              "0                                            BUCKEYE  Carbon monoxide   \n",
              "1                                          Shadyside  Carbon monoxide   \n",
              "2  Yellowstone National Park - Old Faithful Snow ...  Carbon monoxide   \n",
              "3                             North East Waste (NEW)  Carbon monoxide   \n",
              "4                                          CARPENTER  Carbon monoxide   \n",
              "5                                            Kapolei  Carbon monoxide   \n",
              "6                                            Kapolei  Carbon monoxide   \n",
              "7                                                NaN  Carbon monoxide   \n",
              "8                                           Honolulu  Carbon monoxide   \n",
              "9                      Fort Collins - CSU - S. Mason  Carbon monoxide   \n",
              "\n",
              "    units_of_measure  arithmetic_mean  aqi  \n",
              "0  Parts per million         0.473684    7  \n",
              "1  Parts per million         0.263158    5  \n",
              "2  Parts per million         0.111111    2  \n",
              "3  Parts per million         0.300000    3  \n",
              "4  Parts per million         0.215789    3  \n",
              "5  Parts per million         0.994737   14  \n",
              "6  Parts per million         0.200000    2  \n",
              "7  Parts per million         0.200000    2  \n",
              "8  Parts per million         0.400000    5  \n",
              "9  Parts per million         0.300000    6  "
            ],
            "text/html": [
              "\n",
              "  <div id=\"df-6291f601-5159-4342-b26d-e8a13898de6d\">\n",
              "    <div class=\"colab-df-container\">\n",
              "      <div>\n",
              "<style scoped>\n",
              "    .dataframe tbody tr th:only-of-type {\n",
              "        vertical-align: middle;\n",
              "    }\n",
              "\n",
              "    .dataframe tbody tr th {\n",
              "        vertical-align: top;\n",
              "    }\n",
              "\n",
              "    .dataframe thead th {\n",
              "        text-align: right;\n",
              "    }\n",
              "</style>\n",
              "<table border=\"1\" class=\"dataframe\">\n",
              "  <thead>\n",
              "    <tr style=\"text-align: right;\">\n",
              "      <th></th>\n",
              "      <th>date_local</th>\n",
              "      <th>state_name</th>\n",
              "      <th>county_name</th>\n",
              "      <th>city_name</th>\n",
              "      <th>local_site_name</th>\n",
              "      <th>parameter_name</th>\n",
              "      <th>units_of_measure</th>\n",
              "      <th>arithmetic_mean</th>\n",
              "      <th>aqi</th>\n",
              "    </tr>\n",
              "  </thead>\n",
              "  <tbody>\n",
              "    <tr>\n",
              "      <th>0</th>\n",
              "      <td>2018-01-01</td>\n",
              "      <td>Arizona</td>\n",
              "      <td>Maricopa</td>\n",
              "      <td>Buckeye</td>\n",
              "      <td>BUCKEYE</td>\n",
              "      <td>Carbon monoxide</td>\n",
              "      <td>Parts per million</td>\n",
              "      <td>0.473684</td>\n",
              "      <td>7</td>\n",
              "    </tr>\n",
              "    <tr>\n",
              "      <th>1</th>\n",
              "      <td>2018-01-01</td>\n",
              "      <td>Ohio</td>\n",
              "      <td>Belmont</td>\n",
              "      <td>Shadyside</td>\n",
              "      <td>Shadyside</td>\n",
              "      <td>Carbon monoxide</td>\n",
              "      <td>Parts per million</td>\n",
              "      <td>0.263158</td>\n",
              "      <td>5</td>\n",
              "    </tr>\n",
              "    <tr>\n",
              "      <th>2</th>\n",
              "      <td>2018-01-01</td>\n",
              "      <td>Wyoming</td>\n",
              "      <td>Teton</td>\n",
              "      <td>Not in a city</td>\n",
              "      <td>Yellowstone National Park - Old Faithful Snow ...</td>\n",
              "      <td>Carbon monoxide</td>\n",
              "      <td>Parts per million</td>\n",
              "      <td>0.111111</td>\n",
              "      <td>2</td>\n",
              "    </tr>\n",
              "    <tr>\n",
              "      <th>3</th>\n",
              "      <td>2018-01-01</td>\n",
              "      <td>Pennsylvania</td>\n",
              "      <td>Philadelphia</td>\n",
              "      <td>Philadelphia</td>\n",
              "      <td>North East Waste (NEW)</td>\n",
              "      <td>Carbon monoxide</td>\n",
              "      <td>Parts per million</td>\n",
              "      <td>0.300000</td>\n",
              "      <td>3</td>\n",
              "    </tr>\n",
              "    <tr>\n",
              "      <th>4</th>\n",
              "      <td>2018-01-01</td>\n",
              "      <td>Iowa</td>\n",
              "      <td>Polk</td>\n",
              "      <td>Des Moines</td>\n",
              "      <td>CARPENTER</td>\n",
              "      <td>Carbon monoxide</td>\n",
              "      <td>Parts per million</td>\n",
              "      <td>0.215789</td>\n",
              "      <td>3</td>\n",
              "    </tr>\n",
              "    <tr>\n",
              "      <th>5</th>\n",
              "      <td>2018-01-01</td>\n",
              "      <td>Hawaii</td>\n",
              "      <td>Honolulu</td>\n",
              "      <td>Not in a city</td>\n",
              "      <td>Kapolei</td>\n",
              "      <td>Carbon monoxide</td>\n",
              "      <td>Parts per million</td>\n",
              "      <td>0.994737</td>\n",
              "      <td>14</td>\n",
              "    </tr>\n",
              "    <tr>\n",
              "      <th>6</th>\n",
              "      <td>2018-01-01</td>\n",
              "      <td>Hawaii</td>\n",
              "      <td>Honolulu</td>\n",
              "      <td>Not in a city</td>\n",
              "      <td>Kapolei</td>\n",
              "      <td>Carbon monoxide</td>\n",
              "      <td>Parts per million</td>\n",
              "      <td>0.200000</td>\n",
              "      <td>2</td>\n",
              "    </tr>\n",
              "    <tr>\n",
              "      <th>7</th>\n",
              "      <td>2018-01-01</td>\n",
              "      <td>Pennsylvania</td>\n",
              "      <td>Erie</td>\n",
              "      <td>Erie</td>\n",
              "      <td>NaN</td>\n",
              "      <td>Carbon monoxide</td>\n",
              "      <td>Parts per million</td>\n",
              "      <td>0.200000</td>\n",
              "      <td>2</td>\n",
              "    </tr>\n",
              "    <tr>\n",
              "      <th>8</th>\n",
              "      <td>2018-01-01</td>\n",
              "      <td>Hawaii</td>\n",
              "      <td>Honolulu</td>\n",
              "      <td>Honolulu</td>\n",
              "      <td>Honolulu</td>\n",
              "      <td>Carbon monoxide</td>\n",
              "      <td>Parts per million</td>\n",
              "      <td>0.400000</td>\n",
              "      <td>5</td>\n",
              "    </tr>\n",
              "    <tr>\n",
              "      <th>9</th>\n",
              "      <td>2018-01-01</td>\n",
              "      <td>Colorado</td>\n",
              "      <td>Larimer</td>\n",
              "      <td>Fort Collins</td>\n",
              "      <td>Fort Collins - CSU - S. Mason</td>\n",
              "      <td>Carbon monoxide</td>\n",
              "      <td>Parts per million</td>\n",
              "      <td>0.300000</td>\n",
              "      <td>6</td>\n",
              "    </tr>\n",
              "  </tbody>\n",
              "</table>\n",
              "</div>\n",
              "      <button class=\"colab-df-convert\" onclick=\"convertToInteractive('df-6291f601-5159-4342-b26d-e8a13898de6d')\"\n",
              "              title=\"Convert this dataframe to an interactive table.\"\n",
              "              style=\"display:none;\">\n",
              "        \n",
              "  <svg xmlns=\"http://www.w3.org/2000/svg\" height=\"24px\"viewBox=\"0 0 24 24\"\n",
              "       width=\"24px\">\n",
              "    <path d=\"M0 0h24v24H0V0z\" fill=\"none\"/>\n",
              "    <path d=\"M18.56 5.44l.94 2.06.94-2.06 2.06-.94-2.06-.94-.94-2.06-.94 2.06-2.06.94zm-11 1L8.5 8.5l.94-2.06 2.06-.94-2.06-.94L8.5 2.5l-.94 2.06-2.06.94zm10 10l.94 2.06.94-2.06 2.06-.94-2.06-.94-.94-2.06-.94 2.06-2.06.94z\"/><path d=\"M17.41 7.96l-1.37-1.37c-.4-.4-.92-.59-1.43-.59-.52 0-1.04.2-1.43.59L10.3 9.45l-7.72 7.72c-.78.78-.78 2.05 0 2.83L4 21.41c.39.39.9.59 1.41.59.51 0 1.02-.2 1.41-.59l7.78-7.78 2.81-2.81c.8-.78.8-2.07 0-2.86zM5.41 20L4 18.59l7.72-7.72 1.47 1.35L5.41 20z\"/>\n",
              "  </svg>\n",
              "      </button>\n",
              "      \n",
              "  <style>\n",
              "    .colab-df-container {\n",
              "      display:flex;\n",
              "      flex-wrap:wrap;\n",
              "      gap: 12px;\n",
              "    }\n",
              "\n",
              "    .colab-df-convert {\n",
              "      background-color: #E8F0FE;\n",
              "      border: none;\n",
              "      border-radius: 50%;\n",
              "      cursor: pointer;\n",
              "      display: none;\n",
              "      fill: #1967D2;\n",
              "      height: 32px;\n",
              "      padding: 0 0 0 0;\n",
              "      width: 32px;\n",
              "    }\n",
              "\n",
              "    .colab-df-convert:hover {\n",
              "      background-color: #E2EBFA;\n",
              "      box-shadow: 0px 1px 2px rgba(60, 64, 67, 0.3), 0px 1px 3px 1px rgba(60, 64, 67, 0.15);\n",
              "      fill: #174EA6;\n",
              "    }\n",
              "\n",
              "    [theme=dark] .colab-df-convert {\n",
              "      background-color: #3B4455;\n",
              "      fill: #D2E3FC;\n",
              "    }\n",
              "\n",
              "    [theme=dark] .colab-df-convert:hover {\n",
              "      background-color: #434B5C;\n",
              "      box-shadow: 0px 1px 3px 1px rgba(0, 0, 0, 0.15);\n",
              "      filter: drop-shadow(0px 1px 2px rgba(0, 0, 0, 0.3));\n",
              "      fill: #FFFFFF;\n",
              "    }\n",
              "  </style>\n",
              "\n",
              "      <script>\n",
              "        const buttonEl =\n",
              "          document.querySelector('#df-6291f601-5159-4342-b26d-e8a13898de6d button.colab-df-convert');\n",
              "        buttonEl.style.display =\n",
              "          google.colab.kernel.accessAllowed ? 'block' : 'none';\n",
              "\n",
              "        async function convertToInteractive(key) {\n",
              "          const element = document.querySelector('#df-6291f601-5159-4342-b26d-e8a13898de6d');\n",
              "          const dataTable =\n",
              "            await google.colab.kernel.invokeFunction('convertToInteractive',\n",
              "                                                     [key], {});\n",
              "          if (!dataTable) return;\n",
              "\n",
              "          const docLinkHtml = 'Like what you see? Visit the ' +\n",
              "            '<a target=\"_blank\" href=https://colab.research.google.com/notebooks/data_table.ipynb>data table notebook</a>'\n",
              "            + ' to learn more about interactive tables.';\n",
              "          element.innerHTML = '';\n",
              "          dataTable['output_type'] = 'display_data';\n",
              "          await google.colab.output.renderOutput(dataTable, element);\n",
              "          const docLink = document.createElement('div');\n",
              "          docLink.innerHTML = docLinkHtml;\n",
              "          element.appendChild(docLink);\n",
              "        }\n",
              "      </script>\n",
              "    </div>\n",
              "  </div>\n",
              "  "
            ]
          },
          "metadata": {},
          "execution_count": 6
        }
      ]
    },
    {
      "cell_type": "code",
      "source": [
        "ads.describe()"
      ],
      "metadata": {
        "colab": {
          "base_uri": "https://localhost:8080/",
          "height": 300
        },
        "id": "G9SprrFgCJuH",
        "outputId": "ead535c1-fa77-4f0d-b848-8833efd10197"
      },
      "execution_count": null,
      "outputs": [
        {
          "output_type": "execute_result",
          "data": {
            "text/plain": [
              "       arithmetic_mean         aqi\n",
              "count       260.000000  260.000000\n",
              "mean          0.403169    6.757692\n",
              "std           0.317902    7.061707\n",
              "min           0.000000    0.000000\n",
              "25%           0.200000    2.000000\n",
              "50%           0.276315    5.000000\n",
              "75%           0.516009    9.000000\n",
              "max           1.921053   50.000000"
            ],
            "text/html": [
              "\n",
              "  <div id=\"df-e69fb733-ffa2-45b7-9046-d2e321ef2503\">\n",
              "    <div class=\"colab-df-container\">\n",
              "      <div>\n",
              "<style scoped>\n",
              "    .dataframe tbody tr th:only-of-type {\n",
              "        vertical-align: middle;\n",
              "    }\n",
              "\n",
              "    .dataframe tbody tr th {\n",
              "        vertical-align: top;\n",
              "    }\n",
              "\n",
              "    .dataframe thead th {\n",
              "        text-align: right;\n",
              "    }\n",
              "</style>\n",
              "<table border=\"1\" class=\"dataframe\">\n",
              "  <thead>\n",
              "    <tr style=\"text-align: right;\">\n",
              "      <th></th>\n",
              "      <th>arithmetic_mean</th>\n",
              "      <th>aqi</th>\n",
              "    </tr>\n",
              "  </thead>\n",
              "  <tbody>\n",
              "    <tr>\n",
              "      <th>count</th>\n",
              "      <td>260.000000</td>\n",
              "      <td>260.000000</td>\n",
              "    </tr>\n",
              "    <tr>\n",
              "      <th>mean</th>\n",
              "      <td>0.403169</td>\n",
              "      <td>6.757692</td>\n",
              "    </tr>\n",
              "    <tr>\n",
              "      <th>std</th>\n",
              "      <td>0.317902</td>\n",
              "      <td>7.061707</td>\n",
              "    </tr>\n",
              "    <tr>\n",
              "      <th>min</th>\n",
              "      <td>0.000000</td>\n",
              "      <td>0.000000</td>\n",
              "    </tr>\n",
              "    <tr>\n",
              "      <th>25%</th>\n",
              "      <td>0.200000</td>\n",
              "      <td>2.000000</td>\n",
              "    </tr>\n",
              "    <tr>\n",
              "      <th>50%</th>\n",
              "      <td>0.276315</td>\n",
              "      <td>5.000000</td>\n",
              "    </tr>\n",
              "    <tr>\n",
              "      <th>75%</th>\n",
              "      <td>0.516009</td>\n",
              "      <td>9.000000</td>\n",
              "    </tr>\n",
              "    <tr>\n",
              "      <th>max</th>\n",
              "      <td>1.921053</td>\n",
              "      <td>50.000000</td>\n",
              "    </tr>\n",
              "  </tbody>\n",
              "</table>\n",
              "</div>\n",
              "      <button class=\"colab-df-convert\" onclick=\"convertToInteractive('df-e69fb733-ffa2-45b7-9046-d2e321ef2503')\"\n",
              "              title=\"Convert this dataframe to an interactive table.\"\n",
              "              style=\"display:none;\">\n",
              "        \n",
              "  <svg xmlns=\"http://www.w3.org/2000/svg\" height=\"24px\"viewBox=\"0 0 24 24\"\n",
              "       width=\"24px\">\n",
              "    <path d=\"M0 0h24v24H0V0z\" fill=\"none\"/>\n",
              "    <path d=\"M18.56 5.44l.94 2.06.94-2.06 2.06-.94-2.06-.94-.94-2.06-.94 2.06-2.06.94zm-11 1L8.5 8.5l.94-2.06 2.06-.94-2.06-.94L8.5 2.5l-.94 2.06-2.06.94zm10 10l.94 2.06.94-2.06 2.06-.94-2.06-.94-.94-2.06-.94 2.06-2.06.94z\"/><path d=\"M17.41 7.96l-1.37-1.37c-.4-.4-.92-.59-1.43-.59-.52 0-1.04.2-1.43.59L10.3 9.45l-7.72 7.72c-.78.78-.78 2.05 0 2.83L4 21.41c.39.39.9.59 1.41.59.51 0 1.02-.2 1.41-.59l7.78-7.78 2.81-2.81c.8-.78.8-2.07 0-2.86zM5.41 20L4 18.59l7.72-7.72 1.47 1.35L5.41 20z\"/>\n",
              "  </svg>\n",
              "      </button>\n",
              "      \n",
              "  <style>\n",
              "    .colab-df-container {\n",
              "      display:flex;\n",
              "      flex-wrap:wrap;\n",
              "      gap: 12px;\n",
              "    }\n",
              "\n",
              "    .colab-df-convert {\n",
              "      background-color: #E8F0FE;\n",
              "      border: none;\n",
              "      border-radius: 50%;\n",
              "      cursor: pointer;\n",
              "      display: none;\n",
              "      fill: #1967D2;\n",
              "      height: 32px;\n",
              "      padding: 0 0 0 0;\n",
              "      width: 32px;\n",
              "    }\n",
              "\n",
              "    .colab-df-convert:hover {\n",
              "      background-color: #E2EBFA;\n",
              "      box-shadow: 0px 1px 2px rgba(60, 64, 67, 0.3), 0px 1px 3px 1px rgba(60, 64, 67, 0.15);\n",
              "      fill: #174EA6;\n",
              "    }\n",
              "\n",
              "    [theme=dark] .colab-df-convert {\n",
              "      background-color: #3B4455;\n",
              "      fill: #D2E3FC;\n",
              "    }\n",
              "\n",
              "    [theme=dark] .colab-df-convert:hover {\n",
              "      background-color: #434B5C;\n",
              "      box-shadow: 0px 1px 3px 1px rgba(0, 0, 0, 0.15);\n",
              "      filter: drop-shadow(0px 1px 2px rgba(0, 0, 0, 0.3));\n",
              "      fill: #FFFFFF;\n",
              "    }\n",
              "  </style>\n",
              "\n",
              "      <script>\n",
              "        const buttonEl =\n",
              "          document.querySelector('#df-e69fb733-ffa2-45b7-9046-d2e321ef2503 button.colab-df-convert');\n",
              "        buttonEl.style.display =\n",
              "          google.colab.kernel.accessAllowed ? 'block' : 'none';\n",
              "\n",
              "        async function convertToInteractive(key) {\n",
              "          const element = document.querySelector('#df-e69fb733-ffa2-45b7-9046-d2e321ef2503');\n",
              "          const dataTable =\n",
              "            await google.colab.kernel.invokeFunction('convertToInteractive',\n",
              "                                                     [key], {});\n",
              "          if (!dataTable) return;\n",
              "\n",
              "          const docLinkHtml = 'Like what you see? Visit the ' +\n",
              "            '<a target=\"_blank\" href=https://colab.research.google.com/notebooks/data_table.ipynb>data table notebook</a>'\n",
              "            + ' to learn more about interactive tables.';\n",
              "          element.innerHTML = '';\n",
              "          dataTable['output_type'] = 'display_data';\n",
              "          await google.colab.output.renderOutput(dataTable, element);\n",
              "          const docLink = document.createElement('div');\n",
              "          docLink.innerHTML = docLinkHtml;\n",
              "          element.appendChild(docLink);\n",
              "        }\n",
              "      </script>\n",
              "    </div>\n",
              "  </div>\n",
              "  "
            ]
          },
          "metadata": {},
          "execution_count": 7
        }
      ]
    },
    {
      "cell_type": "code",
      "source": [
        "ads[\"state_name\"].describe()"
      ],
      "metadata": {
        "colab": {
          "base_uri": "https://localhost:8080/"
        },
        "id": "rYhMP7DkCQlX",
        "outputId": "6d4e609b-5c5a-4575-aca1-a2812f3664d1"
      },
      "execution_count": null,
      "outputs": [
        {
          "output_type": "execute_result",
          "data": {
            "text/plain": [
              "count            260\n",
              "unique            52\n",
              "top       California\n",
              "freq              66\n",
              "Name: state_name, dtype: object"
            ]
          },
          "metadata": {},
          "execution_count": 8
        }
      ]
    },
    {
      "cell_type": "code",
      "source": [
        "np.mean(ads[\"aqi\"])"
      ],
      "metadata": {
        "colab": {
          "base_uri": "https://localhost:8080/"
        },
        "id": "KMD4hv4_CWyC",
        "outputId": "d5c6eb7c-f266-4d58-e3b0-f65e2b50b892"
      },
      "execution_count": null,
      "outputs": [
        {
          "output_type": "execute_result",
          "data": {
            "text/plain": [
              "6.757692307692308"
            ]
          },
          "metadata": {},
          "execution_count": 9
        }
      ]
    },
    {
      "cell_type": "code",
      "source": [
        "np.median(ads[\"aqi\"])"
      ],
      "metadata": {
        "colab": {
          "base_uri": "https://localhost:8080/"
        },
        "id": "7CBkaSsRCcPY",
        "outputId": "7d4bdb1c-29c2-46a5-c95b-103c3f77f5d3"
      },
      "execution_count": null,
      "outputs": [
        {
          "output_type": "execute_result",
          "data": {
            "text/plain": [
              "5.0"
            ]
          },
          "metadata": {},
          "execution_count": 10
        }
      ]
    },
    {
      "cell_type": "code",
      "source": [
        "np.min(ads[\"aqi\"])"
      ],
      "metadata": {
        "colab": {
          "base_uri": "https://localhost:8080/"
        },
        "id": "LPRzvZKKCg-Y",
        "outputId": "82c87c1b-cd79-424b-c48d-628bfffeebab"
      },
      "execution_count": null,
      "outputs": [
        {
          "output_type": "execute_result",
          "data": {
            "text/plain": [
              "0"
            ]
          },
          "metadata": {},
          "execution_count": 11
        }
      ]
    },
    {
      "cell_type": "code",
      "source": [
        "np.max(ads[\"aqi\"])"
      ],
      "metadata": {
        "colab": {
          "base_uri": "https://localhost:8080/"
        },
        "id": "yc6EzRouCl4U",
        "outputId": "44ad9519-f982-4bcb-dfcd-ebf80f499dc6"
      },
      "execution_count": null,
      "outputs": [
        {
          "output_type": "execute_result",
          "data": {
            "text/plain": [
              "50"
            ]
          },
          "metadata": {},
          "execution_count": 12
        }
      ]
    },
    {
      "cell_type": "code",
      "source": [
        "np.std(ads[\"aqi\"], ddof=1)"
      ],
      "metadata": {
        "colab": {
          "base_uri": "https://localhost:8080/"
        },
        "id": "6sZK8YHECqWj",
        "outputId": "4560d039-d020-4193-c0e4-6011fddef66b"
      },
      "execution_count": null,
      "outputs": [
        {
          "output_type": "execute_result",
          "data": {
            "text/plain": [
              "7.061706678820724"
            ]
          },
          "metadata": {},
          "execution_count": 13
        }
      ]
    },
    {
      "cell_type": "code",
      "source": [
        "pd.read_csv(\"c4 epa air dataset.csv\")"
      ],
      "metadata": {
        "colab": {
          "base_uri": "https://localhost:8080/",
          "height": 609
        },
        "id": "F8rmam1Danvi",
        "outputId": "5b462a56-de90-4d89-8ee6-0cea47b68627"
      },
      "execution_count": null,
      "outputs": [
        {
          "output_type": "execute_result",
          "data": {
            "text/plain": [
              "     Unnamed: 0  date_local            state_name           county_name  \\\n",
              "0             0  2018-01-01               Arizona              Maricopa   \n",
              "1             1  2018-01-01                  Ohio               Belmont   \n",
              "2             2  2018-01-01               Wyoming                 Teton   \n",
              "3             3  2018-01-01          Pennsylvania          Philadelphia   \n",
              "4             4  2018-01-01                  Iowa                  Polk   \n",
              "..          ...         ...                   ...                   ...   \n",
              "255         255  2018-01-01  District Of Columbia  District of Columbia   \n",
              "256         256  2018-01-01             Wisconsin                 Dodge   \n",
              "257         257  2018-01-01              Kentucky             Jefferson   \n",
              "258         258  2018-01-01              Nebraska               Douglas   \n",
              "259         259  2018-01-01        North Carolina                  Wake   \n",
              "\n",
              "         city_name                                    local_site_name  \\\n",
              "0          Buckeye                                            BUCKEYE   \n",
              "1        Shadyside                                          Shadyside   \n",
              "2    Not in a city  Yellowstone National Park - Old Faithful Snow ...   \n",
              "3     Philadelphia                             North East Waste (NEW)   \n",
              "4       Des Moines                                          CARPENTER   \n",
              "..             ...                                                ...   \n",
              "255     Washington                                          Near Road   \n",
              "256       Kekoskee                              HORICON WILDLIFE AREA   \n",
              "257     Louisville                                       CANNONS LANE   \n",
              "258          Omaha                                                NaN   \n",
              "259  Not in a city                                         Triple Oak   \n",
              "\n",
              "      parameter_name   units_of_measure  arithmetic_mean  aqi  \n",
              "0    Carbon monoxide  Parts per million         0.473684    7  \n",
              "1    Carbon monoxide  Parts per million         0.263158    5  \n",
              "2    Carbon monoxide  Parts per million         0.111111    2  \n",
              "3    Carbon monoxide  Parts per million         0.300000    3  \n",
              "4    Carbon monoxide  Parts per million         0.215789    3  \n",
              "..               ...                ...              ...  ...  \n",
              "255  Carbon monoxide  Parts per million         0.244444    3  \n",
              "256  Carbon monoxide  Parts per million         0.200000    2  \n",
              "257  Carbon monoxide  Parts per million         0.163158    2  \n",
              "258  Carbon monoxide  Parts per million         0.421053    9  \n",
              "259  Carbon monoxide  Parts per million         0.188889    2  \n",
              "\n",
              "[260 rows x 10 columns]"
            ],
            "text/html": [
              "\n",
              "  <div id=\"df-eafe6461-658d-4966-80fd-40233ea8012b\">\n",
              "    <div class=\"colab-df-container\">\n",
              "      <div>\n",
              "<style scoped>\n",
              "    .dataframe tbody tr th:only-of-type {\n",
              "        vertical-align: middle;\n",
              "    }\n",
              "\n",
              "    .dataframe tbody tr th {\n",
              "        vertical-align: top;\n",
              "    }\n",
              "\n",
              "    .dataframe thead th {\n",
              "        text-align: right;\n",
              "    }\n",
              "</style>\n",
              "<table border=\"1\" class=\"dataframe\">\n",
              "  <thead>\n",
              "    <tr style=\"text-align: right;\">\n",
              "      <th></th>\n",
              "      <th>Unnamed: 0</th>\n",
              "      <th>date_local</th>\n",
              "      <th>state_name</th>\n",
              "      <th>county_name</th>\n",
              "      <th>city_name</th>\n",
              "      <th>local_site_name</th>\n",
              "      <th>parameter_name</th>\n",
              "      <th>units_of_measure</th>\n",
              "      <th>arithmetic_mean</th>\n",
              "      <th>aqi</th>\n",
              "    </tr>\n",
              "  </thead>\n",
              "  <tbody>\n",
              "    <tr>\n",
              "      <th>0</th>\n",
              "      <td>0</td>\n",
              "      <td>2018-01-01</td>\n",
              "      <td>Arizona</td>\n",
              "      <td>Maricopa</td>\n",
              "      <td>Buckeye</td>\n",
              "      <td>BUCKEYE</td>\n",
              "      <td>Carbon monoxide</td>\n",
              "      <td>Parts per million</td>\n",
              "      <td>0.473684</td>\n",
              "      <td>7</td>\n",
              "    </tr>\n",
              "    <tr>\n",
              "      <th>1</th>\n",
              "      <td>1</td>\n",
              "      <td>2018-01-01</td>\n",
              "      <td>Ohio</td>\n",
              "      <td>Belmont</td>\n",
              "      <td>Shadyside</td>\n",
              "      <td>Shadyside</td>\n",
              "      <td>Carbon monoxide</td>\n",
              "      <td>Parts per million</td>\n",
              "      <td>0.263158</td>\n",
              "      <td>5</td>\n",
              "    </tr>\n",
              "    <tr>\n",
              "      <th>2</th>\n",
              "      <td>2</td>\n",
              "      <td>2018-01-01</td>\n",
              "      <td>Wyoming</td>\n",
              "      <td>Teton</td>\n",
              "      <td>Not in a city</td>\n",
              "      <td>Yellowstone National Park - Old Faithful Snow ...</td>\n",
              "      <td>Carbon monoxide</td>\n",
              "      <td>Parts per million</td>\n",
              "      <td>0.111111</td>\n",
              "      <td>2</td>\n",
              "    </tr>\n",
              "    <tr>\n",
              "      <th>3</th>\n",
              "      <td>3</td>\n",
              "      <td>2018-01-01</td>\n",
              "      <td>Pennsylvania</td>\n",
              "      <td>Philadelphia</td>\n",
              "      <td>Philadelphia</td>\n",
              "      <td>North East Waste (NEW)</td>\n",
              "      <td>Carbon monoxide</td>\n",
              "      <td>Parts per million</td>\n",
              "      <td>0.300000</td>\n",
              "      <td>3</td>\n",
              "    </tr>\n",
              "    <tr>\n",
              "      <th>4</th>\n",
              "      <td>4</td>\n",
              "      <td>2018-01-01</td>\n",
              "      <td>Iowa</td>\n",
              "      <td>Polk</td>\n",
              "      <td>Des Moines</td>\n",
              "      <td>CARPENTER</td>\n",
              "      <td>Carbon monoxide</td>\n",
              "      <td>Parts per million</td>\n",
              "      <td>0.215789</td>\n",
              "      <td>3</td>\n",
              "    </tr>\n",
              "    <tr>\n",
              "      <th>...</th>\n",
              "      <td>...</td>\n",
              "      <td>...</td>\n",
              "      <td>...</td>\n",
              "      <td>...</td>\n",
              "      <td>...</td>\n",
              "      <td>...</td>\n",
              "      <td>...</td>\n",
              "      <td>...</td>\n",
              "      <td>...</td>\n",
              "      <td>...</td>\n",
              "    </tr>\n",
              "    <tr>\n",
              "      <th>255</th>\n",
              "      <td>255</td>\n",
              "      <td>2018-01-01</td>\n",
              "      <td>District Of Columbia</td>\n",
              "      <td>District of Columbia</td>\n",
              "      <td>Washington</td>\n",
              "      <td>Near Road</td>\n",
              "      <td>Carbon monoxide</td>\n",
              "      <td>Parts per million</td>\n",
              "      <td>0.244444</td>\n",
              "      <td>3</td>\n",
              "    </tr>\n",
              "    <tr>\n",
              "      <th>256</th>\n",
              "      <td>256</td>\n",
              "      <td>2018-01-01</td>\n",
              "      <td>Wisconsin</td>\n",
              "      <td>Dodge</td>\n",
              "      <td>Kekoskee</td>\n",
              "      <td>HORICON WILDLIFE AREA</td>\n",
              "      <td>Carbon monoxide</td>\n",
              "      <td>Parts per million</td>\n",
              "      <td>0.200000</td>\n",
              "      <td>2</td>\n",
              "    </tr>\n",
              "    <tr>\n",
              "      <th>257</th>\n",
              "      <td>257</td>\n",
              "      <td>2018-01-01</td>\n",
              "      <td>Kentucky</td>\n",
              "      <td>Jefferson</td>\n",
              "      <td>Louisville</td>\n",
              "      <td>CANNONS LANE</td>\n",
              "      <td>Carbon monoxide</td>\n",
              "      <td>Parts per million</td>\n",
              "      <td>0.163158</td>\n",
              "      <td>2</td>\n",
              "    </tr>\n",
              "    <tr>\n",
              "      <th>258</th>\n",
              "      <td>258</td>\n",
              "      <td>2018-01-01</td>\n",
              "      <td>Nebraska</td>\n",
              "      <td>Douglas</td>\n",
              "      <td>Omaha</td>\n",
              "      <td>NaN</td>\n",
              "      <td>Carbon monoxide</td>\n",
              "      <td>Parts per million</td>\n",
              "      <td>0.421053</td>\n",
              "      <td>9</td>\n",
              "    </tr>\n",
              "    <tr>\n",
              "      <th>259</th>\n",
              "      <td>259</td>\n",
              "      <td>2018-01-01</td>\n",
              "      <td>North Carolina</td>\n",
              "      <td>Wake</td>\n",
              "      <td>Not in a city</td>\n",
              "      <td>Triple Oak</td>\n",
              "      <td>Carbon monoxide</td>\n",
              "      <td>Parts per million</td>\n",
              "      <td>0.188889</td>\n",
              "      <td>2</td>\n",
              "    </tr>\n",
              "  </tbody>\n",
              "</table>\n",
              "<p>260 rows × 10 columns</p>\n",
              "</div>\n",
              "      <button class=\"colab-df-convert\" onclick=\"convertToInteractive('df-eafe6461-658d-4966-80fd-40233ea8012b')\"\n",
              "              title=\"Convert this dataframe to an interactive table.\"\n",
              "              style=\"display:none;\">\n",
              "        \n",
              "  <svg xmlns=\"http://www.w3.org/2000/svg\" height=\"24px\"viewBox=\"0 0 24 24\"\n",
              "       width=\"24px\">\n",
              "    <path d=\"M0 0h24v24H0V0z\" fill=\"none\"/>\n",
              "    <path d=\"M18.56 5.44l.94 2.06.94-2.06 2.06-.94-2.06-.94-.94-2.06-.94 2.06-2.06.94zm-11 1L8.5 8.5l.94-2.06 2.06-.94-2.06-.94L8.5 2.5l-.94 2.06-2.06.94zm10 10l.94 2.06.94-2.06 2.06-.94-2.06-.94-.94-2.06-.94 2.06-2.06.94z\"/><path d=\"M17.41 7.96l-1.37-1.37c-.4-.4-.92-.59-1.43-.59-.52 0-1.04.2-1.43.59L10.3 9.45l-7.72 7.72c-.78.78-.78 2.05 0 2.83L4 21.41c.39.39.9.59 1.41.59.51 0 1.02-.2 1.41-.59l7.78-7.78 2.81-2.81c.8-.78.8-2.07 0-2.86zM5.41 20L4 18.59l7.72-7.72 1.47 1.35L5.41 20z\"/>\n",
              "  </svg>\n",
              "      </button>\n",
              "      \n",
              "  <style>\n",
              "    .colab-df-container {\n",
              "      display:flex;\n",
              "      flex-wrap:wrap;\n",
              "      gap: 12px;\n",
              "    }\n",
              "\n",
              "    .colab-df-convert {\n",
              "      background-color: #E8F0FE;\n",
              "      border: none;\n",
              "      border-radius: 50%;\n",
              "      cursor: pointer;\n",
              "      display: none;\n",
              "      fill: #1967D2;\n",
              "      height: 32px;\n",
              "      padding: 0 0 0 0;\n",
              "      width: 32px;\n",
              "    }\n",
              "\n",
              "    .colab-df-convert:hover {\n",
              "      background-color: #E2EBFA;\n",
              "      box-shadow: 0px 1px 2px rgba(60, 64, 67, 0.3), 0px 1px 3px 1px rgba(60, 64, 67, 0.15);\n",
              "      fill: #174EA6;\n",
              "    }\n",
              "\n",
              "    [theme=dark] .colab-df-convert {\n",
              "      background-color: #3B4455;\n",
              "      fill: #D2E3FC;\n",
              "    }\n",
              "\n",
              "    [theme=dark] .colab-df-convert:hover {\n",
              "      background-color: #434B5C;\n",
              "      box-shadow: 0px 1px 3px 1px rgba(0, 0, 0, 0.15);\n",
              "      filter: drop-shadow(0px 1px 2px rgba(0, 0, 0, 0.3));\n",
              "      fill: #FFFFFF;\n",
              "    }\n",
              "  </style>\n",
              "\n",
              "      <script>\n",
              "        const buttonEl =\n",
              "          document.querySelector('#df-eafe6461-658d-4966-80fd-40233ea8012b button.colab-df-convert');\n",
              "        buttonEl.style.display =\n",
              "          google.colab.kernel.accessAllowed ? 'block' : 'none';\n",
              "\n",
              "        async function convertToInteractive(key) {\n",
              "          const element = document.querySelector('#df-eafe6461-658d-4966-80fd-40233ea8012b');\n",
              "          const dataTable =\n",
              "            await google.colab.kernel.invokeFunction('convertToInteractive',\n",
              "                                                     [key], {});\n",
              "          if (!dataTable) return;\n",
              "\n",
              "          const docLinkHtml = 'Like what you see? Visit the ' +\n",
              "            '<a target=\"_blank\" href=https://colab.research.google.com/notebooks/data_table.ipynb>data table notebook</a>'\n",
              "            + ' to learn more about interactive tables.';\n",
              "          element.innerHTML = '';\n",
              "          dataTable['output_type'] = 'display_data';\n",
              "          await google.colab.output.renderOutput(dataTable, element);\n",
              "          const docLink = document.createElement('div');\n",
              "          docLink.innerHTML = docLinkHtml;\n",
              "          element.appendChild(docLink);\n",
              "        }\n",
              "      </script>\n",
              "    </div>\n",
              "  </div>\n",
              "  "
            ]
          },
          "metadata": {},
          "execution_count": 8
        }
      ]
    },
    {
      "cell_type": "code",
      "source": [
        "ads.shape"
      ],
      "metadata": {
        "colab": {
          "base_uri": "https://localhost:8080/"
        },
        "id": "RXRKAYAeaUDX",
        "outputId": "e01bbc65-074f-4c0c-a9cf-7e841c758b4a"
      },
      "execution_count": null,
      "outputs": [
        {
          "output_type": "execute_result",
          "data": {
            "text/plain": [
              "(260, 10)"
            ]
          },
          "metadata": {},
          "execution_count": 6
        }
      ]
    },
    {
      "cell_type": "markdown",
      "source": [
        "Now, you want to find out whether aqi_log fits a specific type of probability distribution. Create a histogram to visualize the distribution of aqi_log. Then, based on its shape, visually determine if it resembles a particular distribution"
      ],
      "metadata": {
        "id": "quOCInDMeUrF"
      }
    },
    {
      "cell_type": "markdown",
      "source": [
        "Create a histogram to visualize distribution of aqi_log."
      ],
      "metadata": {
        "id": "FVlQLZXOeXil"
      }
    },
    {
      "cell_type": "code",
      "source": [
        "ads[\"aqi\"].hist();"
      ],
      "metadata": {
        "colab": {
          "base_uri": "https://localhost:8080/",
          "height": 430
        },
        "id": "l04zzPTpajoS",
        "outputId": "62c91f25-2ee0-4c8d-ef03-b2815f3415d6"
      },
      "execution_count": null,
      "outputs": [
        {
          "output_type": "display_data",
          "data": {
            "text/plain": [
              "<Figure size 640x480 with 1 Axes>"
            ],
            "image/png": "[encoded data removed]"
          },
          "metadata": {}
        }
      ]
    },
    {
      "cell_type": "markdown",
      "source": [
        "right skewed"
      ],
      "metadata": {
        "id": "ywAd4GanebrJ"
      }
    },
    {
      "cell_type": "markdown",
      "source": [
        "Another way to visually check if the data is normally distributed is to create and inspect a QQ (quantile-quantile) plot."
      ],
      "metadata": {
        "id": "uKXWH59ziI2z"
      }
    },
    {
      "cell_type": "code",
      "source": [
        "fig = sm.qqplot(ads[\"aqi\"], line='s')\n",
        "plt.show()"
      ],
      "metadata": {
        "colab": {
          "base_uri": "https://localhost:8080/",
          "height": 449
        },
        "id": "z3o8CY2AayDa",
        "outputId": "b484021e-2d16-4369-d0fb-23701531a86a"
      },
      "execution_count": null,
      "outputs": [
        {
          "output_type": "display_data",
          "data": {
            "text/plain": [
              "<Figure size 640x480 with 1 Axes>"
            ],
            "image/png": "[encoded data removed]"
          },
          "metadata": {}
        }
      ]
    },
    {
      "cell_type": "markdown",
      "source": [
        "in the QQ plot, most of the data points follow a straight line, which indicates that a normal distribution should fit the data. Only a few regions do not follow the line."
      ],
      "metadata": {
        "id": "U-OSuuGkiO4-"
      }
    },
    {
      "cell_type": "markdown",
      "source": [
        "**the** empirical rule states that, for every normal distribution:\n",
        "\n",
        "68% of the data fall within 1 standard deviation of the mean\n",
        "95% of the data fall within 2 standard deviations of the mean\n",
        "99.7% of the data fall within 3 standard deviations of the mean\n",
        "First, define two variables to store the mean and standard deviation, respectively, for aqi. Creating these variables will help you easily access these measures as you continue with the calculations involved in applying the empirical rule."
      ],
      "metadata": {
        "id": "ypvgnOycetA1"
      }
    },
    {
      "cell_type": "markdown",
      "source": [
        "Define variable for aqimean.\n"
      ],
      "metadata": {
        "id": "0-BuTi0wewSP"
      }
    },
    {
      "cell_type": "code",
      "source": [
        "mean_aqi_log = ads[\"aqi\"].mean()"
      ],
      "metadata": {
        "id": "kjnRqM45a_ov"
      },
      "execution_count": null,
      "outputs": []
    },
    {
      "cell_type": "code",
      "source": [
        "print(mean_aqi_log)"
      ],
      "metadata": {
        "colab": {
          "base_uri": "https://localhost:8080/"
        },
        "id": "zD8MyfO8bURn",
        "outputId": "b75c5ffe-d3d7-4ed8-f3ea-67c3ea88f136"
      },
      "execution_count": null,
      "outputs": [
        {
          "output_type": "stream",
          "name": "stdout",
          "text": [
            "6.757692307692308\n"
          ]
        }
      ]
    },
    {
      "cell_type": "code",
      "source": [
        "std_aqi_log = ads[\"aqi\"].std()"
      ],
      "metadata": {
        "id": "dxp7GrpQbdP8"
      },
      "execution_count": null,
      "outputs": []
    },
    {
      "cell_type": "code",
      "source": [
        "print(std_aqi_log)"
      ],
      "metadata": {
        "colab": {
          "base_uri": "https://localhost:8080/"
        },
        "id": "GS7u_YAUbrPg",
        "outputId": "83528bf6-7a6a-4e17-d4b8-83dc64cba255"
      },
      "execution_count": null,
      "outputs": [
        {
          "output_type": "stream",
          "name": "stdout",
          "text": [
            "7.061706678820724\n"
          ]
        }
      ]
    },
    {
      "cell_type": "markdown",
      "source": [
        "Now, check the first part of the empirical rule: whether 68% of the aqi data falls within 1 standard deviation of the mean.\n",
        "\n",
        "To compute the actual percentage of the data that satisfies this criteria, define the lower limit (for example, 1 standard deviation below the mean) and the upper limit (for example, 1 standard deviation above the mean). This will enable you to create a range and confirm whether each value falls within it."
      ],
      "metadata": {
        "id": "zb46n6TgfDJu"
      }
    },
    {
      "cell_type": "markdown",
      "source": [
        "lower limit and upper limit"
      ],
      "metadata": {
        "id": "fCoh4Lk8b_YG"
      }
    },
    {
      "cell_type": "code",
      "source": [
        "lower_limit = mean_aqi_log - 1 * std_aqi_log"
      ],
      "metadata": {
        "id": "PDiN8s3Mb6-R"
      },
      "execution_count": null,
      "outputs": []
    },
    {
      "cell_type": "code",
      "source": [
        "upper_limit = mean_aqi_log + 1 * std_aqi_log"
      ],
      "metadata": {
        "id": "Z1q7yxlzcBZ9"
      },
      "execution_count": null,
      "outputs": []
    },
    {
      "cell_type": "code",
      "source": [
        "print(lower_limit, upper_limit)"
      ],
      "metadata": {
        "colab": {
          "base_uri": "https://localhost:8080/"
        },
        "id": "SCbbLf1bcHSL",
        "outputId": "8935a8d1-b4e4-4434-c542-96bda2969eef"
      },
      "execution_count": null,
      "outputs": [
        {
          "output_type": "stream",
          "name": "stdout",
          "text": [
            "-0.30401437112841645 13.819398986513033\n"
          ]
        }
      ]
    },
    {
      "cell_type": "markdown",
      "source": [
        "percentage that falls within 1 standard deviation of mean"
      ],
      "metadata": {
        "id": "9NiEpyN5cR-8"
      }
    },
    {
      "cell_type": "code",
      "source": [
        "((ads[\"aqi\"] >= lower_limit) & (ads[\"aqi\"] <= upper_limit)).mean() * 100"
      ],
      "metadata": {
        "colab": {
          "base_uri": "https://localhost:8080/"
        },
        "id": "0EorWkoscY2K",
        "outputId": "31cfb58f-14de-4b68-adfd-6034d2c49e94"
      },
      "execution_count": null,
      "outputs": [
        {
          "output_type": "execute_result",
          "data": {
            "text/plain": [
              "87.3076923076923"
            ]
          },
          "metadata": {},
          "execution_count": 27
        }
      ]
    },
    {
      "cell_type": "markdown",
      "source": [
        "Now, consider the second part of the empirical rule: whether 95% of the aqi data falls within 2 standard deviations of the mean.\n",
        "\n",
        "To compute the actual percentage of the data that satisfies this criteria, define the lower limit (for example, 2 standard deviations below the mean) and the upper limit (for example, 2 standard deviations above the mean). This will enable you to create a range and confirm whether each value falls within it."
      ],
      "metadata": {
        "id": "O-KNrlQjfSxS"
      }
    },
    {
      "cell_type": "markdown",
      "source": [
        "percentage that falls within 2 standard deviation below the mean"
      ],
      "metadata": {
        "id": "EYWs9h2HcoRJ"
      }
    },
    {
      "cell_type": "code",
      "source": [
        "lower_limit = mean_aqi_log - 2 * std_aqi_log"
      ],
      "metadata": {
        "id": "QIYMzywccwGZ"
      },
      "execution_count": null,
      "outputs": []
    },
    {
      "cell_type": "code",
      "source": [
        "upper_limit = mean_aqi_log + 2 * std_aqi_log"
      ],
      "metadata": {
        "id": "hb-mlKaKc0kk"
      },
      "execution_count": null,
      "outputs": []
    },
    {
      "cell_type": "code",
      "source": [
        "print(lower_limit, upper_limit)"
      ],
      "metadata": {
        "colab": {
          "base_uri": "https://localhost:8080/"
        },
        "id": "pt7nb8XCc2w4",
        "outputId": "c40ed8f5-2b5c-460c-fe3d-8393984cc45e"
      },
      "execution_count": null,
      "outputs": [
        {
          "output_type": "stream",
          "name": "stdout",
          "text": [
            "-7.365721049949141 20.881105665333756\n"
          ]
        }
      ]
    },
    {
      "cell_type": "markdown",
      "source": [
        "percentage of data that falls within 2 standard deviations of the mean"
      ],
      "metadata": {
        "id": "K9na0ZfFdAk6"
      }
    },
    {
      "cell_type": "code",
      "source": [
        "((ads[\"aqi\"] >= lower_limit) & (ads[\"aqi\"] <= upper_limit)).mean() * 100"
      ],
      "metadata": {
        "colab": {
          "base_uri": "https://localhost:8080/"
        },
        "id": "OYGvY87VdBk9",
        "outputId": "c238041c-e4be-4d20-9fb2-fa926547c4ae"
      },
      "execution_count": null,
      "outputs": [
        {
          "output_type": "execute_result",
          "data": {
            "text/plain": [
              "95.76923076923077"
            ]
          },
          "metadata": {},
          "execution_count": 32
        }
      ]
    },
    {
      "cell_type": "markdown",
      "source": [
        "Now, consider the third part of the empirical rule:whether 99.7% of the aqi data falls within 3 standard deviations of the mean.\n",
        "\n",
        "To compute the actual percentage of the data that satisfies this criteria, define the lower limit (for example, 3 standard deviations below the mean) and the upper limit (for example, 3 standard deviations above the mean). This will enable you to create a range and confirm whether each value falls within it."
      ],
      "metadata": {
        "id": "dl3umiO2fb9l"
      }
    },
    {
      "cell_type": "markdown",
      "source": [
        "3 standard deviations below the mean"
      ],
      "metadata": {
        "id": "kOq-ouAddP86"
      }
    },
    {
      "cell_type": "code",
      "source": [
        "lower_limit = mean_aqi_log - 3 * std_aqi_log\n"
      ],
      "metadata": {
        "id": "QVkRb5K4dQyY"
      },
      "execution_count": null,
      "outputs": []
    },
    {
      "cell_type": "code",
      "source": [
        "upper_limit = mean_aqi_log + 3 * std_aqi_log"
      ],
      "metadata": {
        "id": "0dW6tldadT9F"
      },
      "execution_count": null,
      "outputs": []
    },
    {
      "cell_type": "code",
      "source": [
        "print(lower_limit, upper_limit)"
      ],
      "metadata": {
        "colab": {
          "base_uri": "https://localhost:8080/"
        },
        "id": "foX41GZ6dXcC",
        "outputId": "9833fab5-0ad8-44e2-a7bd-55e5d52008d5"
      },
      "execution_count": null,
      "outputs": [
        {
          "output_type": "stream",
          "name": "stdout",
          "text": [
            "-14.427427728769866 27.942812344154483\n"
          ]
        }
      ]
    },
    {
      "cell_type": "markdown",
      "source": [
        "percentage of data that falls within 3 standard deviations of the mean."
      ],
      "metadata": {
        "id": "qIOMu9sXdcSP"
      }
    },
    {
      "cell_type": "code",
      "source": [
        "((ads[\"aqi\"] >= lower_limit) & (ads[\"aqi\"] <= upper_limit)).mean() * 100"
      ],
      "metadata": {
        "colab": {
          "base_uri": "https://localhost:8080/"
        },
        "id": "jvgdATFLdc7c",
        "outputId": "a05cd2e6-b519-41c8-d84e-c21c31bd4698"
      },
      "execution_count": null,
      "outputs": [
        {
          "output_type": "execute_result",
          "data": {
            "text/plain": [
              "98.07692307692307"
            ]
          },
          "metadata": {},
          "execution_count": 36
        }
      ]
    },
    {
      "cell_type": "markdown",
      "source": [
        "Since z-score indicates the relative position of values (for instance, z-score measures how many standard deviations below or above the mean a data point is), it can be used to detect outliers.\n",
        "\n",
        "Z-score could be used to identify values that lie more than 3 standard deviations below or above the mean. These values may be considered outliers"
      ],
      "metadata": {
        "id": "MNnx5vSAd1UP"
      }
    },
    {
      "cell_type": "markdown",
      "source": [
        "Compute the z-score for every aqi_log value, and add a column named z_score in the data to store those results.\n"
      ],
      "metadata": {
        "id": "yoTX-O--d7Y9"
      }
    },
    {
      "cell_type": "code",
      "source": [
        "ads[\"z_score\"] = stats.zscore(ads[\"aqi\"])"
      ],
      "metadata": {
        "id": "_EU1nJNtd9JZ"
      },
      "execution_count": null,
      "outputs": []
    },
    {
      "cell_type": "markdown",
      "source": [
        "Display the first 5 rows to ensure that the new column was added."
      ],
      "metadata": {
        "id": "bJM1-v9Gf-QH"
      }
    },
    {
      "cell_type": "code",
      "source": [
        "ads.head()"
      ],
      "metadata": {
        "colab": {
          "base_uri": "https://localhost:8080/",
          "height": 340
        },
        "id": "Z_IjtW6ofo00",
        "outputId": "f28d7c89-de06-4aaa-8c30-e90d9575b583"
      },
      "execution_count": null,
      "outputs": [
        {
          "output_type": "execute_result",
          "data": {
            "text/plain": [
              "   Unnamed: 0  date_local    state_name   county_name      city_name  \\\n",
              "0           0  2018-01-01       Arizona      Maricopa        Buckeye   \n",
              "1           1  2018-01-01          Ohio       Belmont      Shadyside   \n",
              "2           2  2018-01-01       Wyoming         Teton  Not in a city   \n",
              "3           3  2018-01-01  Pennsylvania  Philadelphia   Philadelphia   \n",
              "4           4  2018-01-01          Iowa          Polk     Des Moines   \n",
              "\n",
              "                                     local_site_name   parameter_name  \\\n",
              "0                                            BUCKEYE  Carbon monoxide   \n",
              "1                                          Shadyside  Carbon monoxide   \n",
              "2  Yellowstone National Park - Old Faithful Snow ...  Carbon monoxide   \n",
              "3                             North East Waste (NEW)  Carbon monoxide   \n",
              "4                                          CARPENTER  Carbon monoxide   \n",
              "\n",
              "    units_of_measure  arithmetic_mean  aqi   z_score  \n",
              "0  Parts per million         0.473684    7  0.034379  \n",
              "1  Parts per million         0.263158    5 -0.249385  \n",
              "2  Parts per million         0.111111    2 -0.675031  \n",
              "3  Parts per million         0.300000    3 -0.533149  \n",
              "4  Parts per million         0.215789    3 -0.533149  "
            ],
            "text/html": [
              "\n",
              "  <div id=\"df-c4b28cf8-b278-469b-87c6-3969de9336d0\">\n",
              "    <div class=\"colab-df-container\">\n",
              "      <div>\n",
              "<style scoped>\n",
              "    .dataframe tbody tr th:only-of-type {\n",
              "        vertical-align: middle;\n",
              "    }\n",
              "\n",
              "    .dataframe tbody tr th {\n",
              "        vertical-align: top;\n",
              "    }\n",
              "\n",
              "    .dataframe thead th {\n",
              "        text-align: right;\n",
              "    }\n",
              "</style>\n",
              "<table border=\"1\" class=\"dataframe\">\n",
              "  <thead>\n",
              "    <tr style=\"text-align: right;\">\n",
              "      <th></th>\n",
              "      <th>Unnamed: 0</th>\n",
              "      <th>date_local</th>\n",
              "      <th>state_name</th>\n",
              "      <th>county_name</th>\n",
              "      <th>city_name</th>\n",
              "      <th>local_site_name</th>\n",
              "      <th>parameter_name</th>\n",
              "      <th>units_of_measure</th>\n",
              "      <th>arithmetic_mean</th>\n",
              "      <th>aqi</th>\n",
              "      <th>z_score</th>\n",
              "    </tr>\n",
              "  </thead>\n",
              "  <tbody>\n",
              "    <tr>\n",
              "      <th>0</th>\n",
              "      <td>0</td>\n",
              "      <td>2018-01-01</td>\n",
              "      <td>Arizona</td>\n",
              "      <td>Maricopa</td>\n",
              "      <td>Buckeye</td>\n",
              "      <td>BUCKEYE</td>\n",
              "      <td>Carbon monoxide</td>\n",
              "      <td>Parts per million</td>\n",
              "      <td>0.473684</td>\n",
              "      <td>7</td>\n",
              "      <td>0.034379</td>\n",
              "    </tr>\n",
              "    <tr>\n",
              "      <th>1</th>\n",
              "      <td>1</td>\n",
              "      <td>2018-01-01</td>\n",
              "      <td>Ohio</td>\n",
              "      <td>Belmont</td>\n",
              "      <td>Shadyside</td>\n",
              "      <td>Shadyside</td>\n",
              "      <td>Carbon monoxide</td>\n",
              "      <td>Parts per million</td>\n",
              "      <td>0.263158</td>\n",
              "      <td>5</td>\n",
              "      <td>-0.249385</td>\n",
              "    </tr>\n",
              "    <tr>\n",
              "      <th>2</th>\n",
              "      <td>2</td>\n",
              "      <td>2018-01-01</td>\n",
              "      <td>Wyoming</td>\n",
              "      <td>Teton</td>\n",
              "      <td>Not in a city</td>\n",
              "      <td>Yellowstone National Park - Old Faithful Snow ...</td>\n",
              "      <td>Carbon monoxide</td>\n",
              "      <td>Parts per million</td>\n",
              "      <td>0.111111</td>\n",
              "      <td>2</td>\n",
              "      <td>-0.675031</td>\n",
              "    </tr>\n",
              "    <tr>\n",
              "      <th>3</th>\n",
              "      <td>3</td>\n",
              "      <td>2018-01-01</td>\n",
              "      <td>Pennsylvania</td>\n",
              "      <td>Philadelphia</td>\n",
              "      <td>Philadelphia</td>\n",
              "      <td>North East Waste (NEW)</td>\n",
              "      <td>Carbon monoxide</td>\n",
              "      <td>Parts per million</td>\n",
              "      <td>0.300000</td>\n",
              "      <td>3</td>\n",
              "      <td>-0.533149</td>\n",
              "    </tr>\n",
              "    <tr>\n",
              "      <th>4</th>\n",
              "      <td>4</td>\n",
              "      <td>2018-01-01</td>\n",
              "      <td>Iowa</td>\n",
              "      <td>Polk</td>\n",
              "      <td>Des Moines</td>\n",
              "      <td>CARPENTER</td>\n",
              "      <td>Carbon monoxide</td>\n",
              "      <td>Parts per million</td>\n",
              "      <td>0.215789</td>\n",
              "      <td>3</td>\n",
              "      <td>-0.533149</td>\n",
              "    </tr>\n",
              "  </tbody>\n",
              "</table>\n",
              "</div>\n",
              "      <button class=\"colab-df-convert\" onclick=\"convertToInteractive('df-c4b28cf8-b278-469b-87c6-3969de9336d0')\"\n",
              "              title=\"Convert this dataframe to an interactive table.\"\n",
              "              style=\"display:none;\">\n",
              "        \n",
              "  <svg xmlns=\"http://www.w3.org/2000/svg\" height=\"24px\"viewBox=\"0 0 24 24\"\n",
              "       width=\"24px\">\n",
              "    <path d=\"M0 0h24v24H0V0z\" fill=\"none\"/>\n",
              "    <path d=\"M18.56 5.44l.94 2.06.94-2.06 2.06-.94-2.06-.94-.94-2.06-.94 2.06-2.06.94zm-11 1L8.5 8.5l.94-2.06 2.06-.94-2.06-.94L8.5 2.5l-.94 2.06-2.06.94zm10 10l.94 2.06.94-2.06 2.06-.94-2.06-.94-.94-2.06-.94 2.06-2.06.94z\"/><path d=\"M17.41 7.96l-1.37-1.37c-.4-.4-.92-.59-1.43-.59-.52 0-1.04.2-1.43.59L10.3 9.45l-7.72 7.72c-.78.78-.78 2.05 0 2.83L4 21.41c.39.39.9.59 1.41.59.51 0 1.02-.2 1.41-.59l7.78-7.78 2.81-2.81c.8-.78.8-2.07 0-2.86zM5.41 20L4 18.59l7.72-7.72 1.47 1.35L5.41 20z\"/>\n",
              "  </svg>\n",
              "      </button>\n",
              "      \n",
              "  <style>\n",
              "    .colab-df-container {\n",
              "      display:flex;\n",
              "      flex-wrap:wrap;\n",
              "      gap: 12px;\n",
              "    }\n",
              "\n",
              "    .colab-df-convert {\n",
              "      background-color: #E8F0FE;\n",
              "      border: none;\n",
              "      border-radius: 50%;\n",
              "      cursor: pointer;\n",
              "      display: none;\n",
              "      fill: #1967D2;\n",
              "      height: 32px;\n",
              "      padding: 0 0 0 0;\n",
              "      width: 32px;\n",
              "    }\n",
              "\n",
              "    .colab-df-convert:hover {\n",
              "      background-color: #E2EBFA;\n",
              "      box-shadow: 0px 1px 2px rgba(60, 64, 67, 0.3), 0px 1px 3px 1px rgba(60, 64, 67, 0.15);\n",
              "      fill: #174EA6;\n",
              "    }\n",
              "\n",
              "    [theme=dark] .colab-df-convert {\n",
              "      background-color: #3B4455;\n",
              "      fill: #D2E3FC;\n",
              "    }\n",
              "\n",
              "    [theme=dark] .colab-df-convert:hover {\n",
              "      background-color: #434B5C;\n",
              "      box-shadow: 0px 1px 3px 1px rgba(0, 0, 0, 0.15);\n",
              "      filter: drop-shadow(0px 1px 2px rgba(0, 0, 0, 0.3));\n",
              "      fill: #FFFFFF;\n",
              "    }\n",
              "  </style>\n",
              "\n",
              "      <script>\n",
              "        const buttonEl =\n",
              "          document.querySelector('#df-c4b28cf8-b278-469b-87c6-3969de9336d0 button.colab-df-convert');\n",
              "        buttonEl.style.display =\n",
              "          google.colab.kernel.accessAllowed ? 'block' : 'none';\n",
              "\n",
              "        async function convertToInteractive(key) {\n",
              "          const element = document.querySelector('#df-c4b28cf8-b278-469b-87c6-3969de9336d0');\n",
              "          const dataTable =\n",
              "            await google.colab.kernel.invokeFunction('convertToInteractive',\n",
              "                                                     [key], {});\n",
              "          if (!dataTable) return;\n",
              "\n",
              "          const docLinkHtml = 'Like what you see? Visit the ' +\n",
              "            '<a target=\"_blank\" href=https://colab.research.google.com/notebooks/data_table.ipynb>data table notebook</a>'\n",
              "            + ' to learn more about interactive tables.';\n",
              "          element.innerHTML = '';\n",
              "          dataTable['output_type'] = 'display_data';\n",
              "          await google.colab.output.renderOutput(dataTable, element);\n",
              "          const docLink = document.createElement('div');\n",
              "          docLink.innerHTML = docLinkHtml;\n",
              "          element.appendChild(docLink);\n",
              "        }\n",
              "      </script>\n",
              "    </div>\n",
              "  </div>\n",
              "  "
            ]
          },
          "metadata": {},
          "execution_count": 38
        }
      ]
    },
    {
      "cell_type": "markdown",
      "source": [
        "Identify the parts of the data where aqi is above or below 3 standard deviations of the mean."
      ],
      "metadata": {
        "id": "RAsp_ymUgJON"
      }
    },
    {
      "cell_type": "code",
      "source": [
        "ads[(ads[\"z_score\"] > 3) | (ads[\"z_score\"] < -3)]"
      ],
      "metadata": {
        "colab": {
          "base_uri": "https://localhost:8080/",
          "height": 305
        },
        "id": "5sZXKaDsgPo0",
        "outputId": "1f8febb0-7fe0-4117-fd1d-3679ed6f00e5"
      },
      "execution_count": null,
      "outputs": [
        {
          "output_type": "execute_result",
          "data": {
            "text/plain": [
              "     Unnamed: 0  date_local  state_name     county_name       city_name  \\\n",
              "25           25  2018-01-01      Nevada           Clark       Las Vegas   \n",
              "132         132  2018-01-01  California     Los Angeles         Compton   \n",
              "155         155  2018-01-01     Arizona        Maricopa         Phoenix   \n",
              "206         206  2018-01-01  California  San Bernardino  San Bernardino   \n",
              "244         244  2018-01-01     Arizona        Maricopa         Phoenix   \n",
              "\n",
              "    local_site_name   parameter_name   units_of_measure  arithmetic_mean  aqi  \\\n",
              "25    Sunrise Acres  Carbon monoxide  Parts per million         1.805263   41   \n",
              "132         Compton  Carbon monoxide  Parts per million         1.742105   40   \n",
              "155   SOUTH PHOENIX  Carbon monoxide  Parts per million         1.394737   36   \n",
              "206  San Bernardino  Carbon monoxide  Parts per million         1.100000   28   \n",
              "244    WEST PHOENIX  Carbon monoxide  Parts per million         1.921053   50   \n",
              "\n",
              "      z_score  \n",
              "25   4.858365  \n",
              "132  4.716483  \n",
              "155  4.148955  \n",
              "206  3.013900  \n",
              "244  6.135302  "
            ],
            "text/html": [
              "\n",
              "  <div id=\"df-7e226d87-6db3-4d93-87c3-5ee1cda30abf\">\n",
              "    <div class=\"colab-df-container\">\n",
              "      <div>\n",
              "<style scoped>\n",
              "    .dataframe tbody tr th:only-of-type {\n",
              "        vertical-align: middle;\n",
              "    }\n",
              "\n",
              "    .dataframe tbody tr th {\n",
              "        vertical-align: top;\n",
              "    }\n",
              "\n",
              "    .dataframe thead th {\n",
              "        text-align: right;\n",
              "    }\n",
              "</style>\n",
              "<table border=\"1\" class=\"dataframe\">\n",
              "  <thead>\n",
              "    <tr style=\"text-align: right;\">\n",
              "      <th></th>\n",
              "      <th>Unnamed: 0</th>\n",
              "      <th>date_local</th>\n",
              "      <th>state_name</th>\n",
              "      <th>county_name</th>\n",
              "      <th>city_name</th>\n",
              "      <th>local_site_name</th>\n",
              "      <th>parameter_name</th>\n",
              "      <th>units_of_measure</th>\n",
              "      <th>arithmetic_mean</th>\n",
              "      <th>aqi</th>\n",
              "      <th>z_score</th>\n",
              "    </tr>\n",
              "  </thead>\n",
              "  <tbody>\n",
              "    <tr>\n",
              "      <th>25</th>\n",
              "      <td>25</td>\n",
              "      <td>2018-01-01</td>\n",
              "      <td>Nevada</td>\n",
              "      <td>Clark</td>\n",
              "      <td>Las Vegas</td>\n",
              "      <td>Sunrise Acres</td>\n",
              "      <td>Carbon monoxide</td>\n",
              "      <td>Parts per million</td>\n",
              "      <td>1.805263</td>\n",
              "      <td>41</td>\n",
              "      <td>4.858365</td>\n",
              "    </tr>\n",
              "    <tr>\n",
              "      <th>132</th>\n",
              "      <td>132</td>\n",
              "      <td>2018-01-01</td>\n",
              "      <td>California</td>\n",
              "      <td>Los Angeles</td>\n",
              "      <td>Compton</td>\n",
              "      <td>Compton</td>\n",
              "      <td>Carbon monoxide</td>\n",
              "      <td>Parts per million</td>\n",
              "      <td>1.742105</td>\n",
              "      <td>40</td>\n",
              "      <td>4.716483</td>\n",
              "    </tr>\n",
              "    <tr>\n",
              "      <th>155</th>\n",
              "      <td>155</td>\n",
              "      <td>2018-01-01</td>\n",
              "      <td>Arizona</td>\n",
              "      <td>Maricopa</td>\n",
              "      <td>Phoenix</td>\n",
              "      <td>SOUTH PHOENIX</td>\n",
              "      <td>Carbon monoxide</td>\n",
              "      <td>Parts per million</td>\n",
              "      <td>1.394737</td>\n",
              "      <td>36</td>\n",
              "      <td>4.148955</td>\n",
              "    </tr>\n",
              "    <tr>\n",
              "      <th>206</th>\n",
              "      <td>206</td>\n",
              "      <td>2018-01-01</td>\n",
              "      <td>California</td>\n",
              "      <td>San Bernardino</td>\n",
              "      <td>San Bernardino</td>\n",
              "      <td>San Bernardino</td>\n",
              "      <td>Carbon monoxide</td>\n",
              "      <td>Parts per million</td>\n",
              "      <td>1.100000</td>\n",
              "      <td>28</td>\n",
              "      <td>3.013900</td>\n",
              "    </tr>\n",
              "    <tr>\n",
              "      <th>244</th>\n",
              "      <td>244</td>\n",
              "      <td>2018-01-01</td>\n",
              "      <td>Arizona</td>\n",
              "      <td>Maricopa</td>\n",
              "      <td>Phoenix</td>\n",
              "      <td>WEST PHOENIX</td>\n",
              "      <td>Carbon monoxide</td>\n",
              "      <td>Parts per million</td>\n",
              "      <td>1.921053</td>\n",
              "      <td>50</td>\n",
              "      <td>6.135302</td>\n",
              "    </tr>\n",
              "  </tbody>\n",
              "</table>\n",
              "</div>\n",
              "      <button class=\"colab-df-convert\" onclick=\"convertToInteractive('df-7e226d87-6db3-4d93-87c3-5ee1cda30abf')\"\n",
              "              title=\"Convert this dataframe to an interactive table.\"\n",
              "              style=\"display:none;\">\n",
              "        \n",
              "  <svg xmlns=\"http://www.w3.org/2000/svg\" height=\"24px\"viewBox=\"0 0 24 24\"\n",
              "       width=\"24px\">\n",
              "    <path d=\"M0 0h24v24H0V0z\" fill=\"none\"/>\n",
              "    <path d=\"M18.56 5.44l.94 2.06.94-2.06 2.06-.94-2.06-.94-.94-2.06-.94 2.06-2.06.94zm-11 1L8.5 8.5l.94-2.06 2.06-.94-2.06-.94L8.5 2.5l-.94 2.06-2.06.94zm10 10l.94 2.06.94-2.06 2.06-.94-2.06-.94-.94-2.06-.94 2.06-2.06.94z\"/><path d=\"M17.41 7.96l-1.37-1.37c-.4-.4-.92-.59-1.43-.59-.52 0-1.04.2-1.43.59L10.3 9.45l-7.72 7.72c-.78.78-.78 2.05 0 2.83L4 21.41c.39.39.9.59 1.41.59.51 0 1.02-.2 1.41-.59l7.78-7.78 2.81-2.81c.8-.78.8-2.07 0-2.86zM5.41 20L4 18.59l7.72-7.72 1.47 1.35L5.41 20z\"/>\n",
              "  </svg>\n",
              "      </button>\n",
              "      \n",
              "  <style>\n",
              "    .colab-df-container {\n",
              "      display:flex;\n",
              "      flex-wrap:wrap;\n",
              "      gap: 12px;\n",
              "    }\n",
              "\n",
              "    .colab-df-convert {\n",
              "      background-color: #E8F0FE;\n",
              "      border: none;\n",
              "      border-radius: 50%;\n",
              "      cursor: pointer;\n",
              "      display: none;\n",
              "      fill: #1967D2;\n",
              "      height: 32px;\n",
              "      padding: 0 0 0 0;\n",
              "      width: 32px;\n",
              "    }\n",
              "\n",
              "    .colab-df-convert:hover {\n",
              "      background-color: #E2EBFA;\n",
              "      box-shadow: 0px 1px 2px rgba(60, 64, 67, 0.3), 0px 1px 3px 1px rgba(60, 64, 67, 0.15);\n",
              "      fill: #174EA6;\n",
              "    }\n",
              "\n",
              "    [theme=dark] .colab-df-convert {\n",
              "      background-color: #3B4455;\n",
              "      fill: #D2E3FC;\n",
              "    }\n",
              "\n",
              "    [theme=dark] .colab-df-convert:hover {\n",
              "      background-color: #434B5C;\n",
              "      box-shadow: 0px 1px 3px 1px rgba(0, 0, 0, 0.15);\n",
              "      filter: drop-shadow(0px 1px 2px rgba(0, 0, 0, 0.3));\n",
              "      fill: #FFFFFF;\n",
              "    }\n",
              "  </style>\n",
              "\n",
              "      <script>\n",
              "        const buttonEl =\n",
              "          document.querySelector('#df-7e226d87-6db3-4d93-87c3-5ee1cda30abf button.colab-df-convert');\n",
              "        buttonEl.style.display =\n",
              "          google.colab.kernel.accessAllowed ? 'block' : 'none';\n",
              "\n",
              "        async function convertToInteractive(key) {\n",
              "          const element = document.querySelector('#df-7e226d87-6db3-4d93-87c3-5ee1cda30abf');\n",
              "          const dataTable =\n",
              "            await google.colab.kernel.invokeFunction('convertToInteractive',\n",
              "                                                     [key], {});\n",
              "          if (!dataTable) return;\n",
              "\n",
              "          const docLinkHtml = 'Like what you see? Visit the ' +\n",
              "            '<a target=\"_blank\" href=https://colab.research.google.com/notebooks/data_table.ipynb>data table notebook</a>'\n",
              "            + ' to learn more about interactive tables.';\n",
              "          element.innerHTML = '';\n",
              "          dataTable['output_type'] = 'display_data';\n",
              "          await google.colab.output.renderOutput(dataTable, element);\n",
              "          const docLink = document.createElement('div');\n",
              "          docLink.innerHTML = docLinkHtml;\n",
              "          element.appendChild(docLink);\n",
              "        }\n",
              "      </script>\n",
              "    </div>\n",
              "  </div>\n",
              "  "
            ]
          },
          "metadata": {},
          "execution_count": 40
        }
      ]
    },
    {
      "cell_type": "markdown",
      "source": [
        "# **Considerations**"
      ],
      "metadata": {
        "id": "wUd2i_XqgkuJ"
      }
    },
    {
      "cell_type": "markdown",
      "source": [
        "**key takeaway**"
      ],
      "metadata": {
        "id": "6ina5MXVg6Dw"
      }
    },
    {
      "cell_type": "markdown",
      "source": [
        "Plotting the data using a histogram and a QQ plot, then observing the shape, enables you to visually determine whether the data is normally distributed.\n",
        "\n",
        "The empirical rule can be used to verify whether a distribution is normal.\n",
        "\n",
        "The mean and standard deviation are important measures when applying the empirical rule to a distribution.\n",
        "\n",
        "Z-score allows you to identify potenial outliers in the data."
      ],
      "metadata": {
        "id": "l-rX8nfxgmtb"
      }
    },
    {
      "cell_type": "markdown",
      "source": [
        "**Summary to stake holders**"
      ],
      "metadata": {
        "id": "rRqE1zxFg_y_"
      }
    },
    {
      "cell_type": "markdown",
      "source": [
        "The distribution of the aqi_log data is approximately normal.\n",
        "\n",
        "Using statistical methods, it was determined that the site at West Phoenix has worse air quality than the other sites.\n",
        "\n",
        "Consider allocating more resources toward further examining this site in order to improve its air quality."
      ],
      "metadata": {
        "id": "U67Q3CEKhHIE"
      }
    }
  ]
}